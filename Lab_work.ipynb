{
  "nbformat": 4,
  "nbformat_minor": 0,
  "metadata": {
    "colab": {
      "provenance": [],
      "include_colab_link": true
    },
    "kernelspec": {
      "name": "python3",
      "display_name": "Python 3"
    },
    "language_info": {
      "name": "python"
    }
  },
  "cells": [
    {
      "cell_type": "markdown",
      "metadata": {
        "id": "view-in-github",
        "colab_type": "text"
      },
      "source": [
        "<a href=\"https://colab.research.google.com/github/alexandriatran/maize_binding_colab/blob/main/Lab_work.ipynb\" target=\"_parent\"><img src=\"https://colab.research.google.com/assets/colab-badge.svg\" alt=\"Open In Colab\"/></a>"
      ]
    },
    {
      "cell_type": "code",
      "execution_count": 1,
      "metadata": {
        "colab": {
          "base_uri": "https://localhost:8080/"
        },
        "id": "vObhQBhM1_Wr",
        "outputId": "587a9851-0892-49a3-aead-7e72cc1090cd"
      },
      "outputs": [
        {
          "output_type": "stream",
          "name": "stdout",
          "text": [
            "Mounted at /content/gdrive/\n"
          ]
        }
      ],
      "source": [
        "from google.colab import drive\n",
        "\n",
        "drive.mount('/content/gdrive/', force_remount=True)"
      ]
    },
    {
      "cell_type": "code",
      "source": [
        "# This is a bit of command line code to install BioPython\n",
        "!pip install biopython"
      ],
      "metadata": {
        "colab": {
          "base_uri": "https://localhost:8080/"
        },
        "id": "lJta9Xx973Ul",
        "outputId": "9ab84276-7bb9-4701-b3fb-e2f61f670530"
      },
      "execution_count": 2,
      "outputs": [
        {
          "output_type": "stream",
          "name": "stdout",
          "text": [
            "Looking in indexes: https://pypi.org/simple, https://us-python.pkg.dev/colab-wheels/public/simple/\n",
            "Collecting biopython\n",
            "  Downloading biopython-1.81-cp39-cp39-manylinux_2_17_x86_64.manylinux2014_x86_64.whl (3.1 MB)\n",
            "\u001b[2K     \u001b[90m━━━━━━━━━━━━━━━━━━━━━━━━━━━━━━━━━━━━━━━━\u001b[0m \u001b[32m3.1/3.1 MB\u001b[0m \u001b[31m30.6 MB/s\u001b[0m eta \u001b[36m0:00:00\u001b[0m\n",
            "\u001b[?25hRequirement already satisfied: numpy in /usr/local/lib/python3.9/dist-packages (from biopython) (1.22.4)\n",
            "Installing collected packages: biopython\n",
            "Successfully installed biopython-1.81\n"
          ]
        }
      ]
    },
    {
      "cell_type": "code",
      "source": [
        "from google.colab import files"
      ],
      "metadata": {
        "id": "cNW3mrwt8aJ0"
      },
      "execution_count": 3,
      "outputs": []
    },
    {
      "cell_type": "code",
      "source": [
        "from google.colab import drive\n",
        "drive.mount('/content/drive')"
      ],
      "metadata": {
        "id": "kOq7Y8wL9WzZ",
        "colab": {
          "base_uri": "https://localhost:8080/"
        },
        "outputId": "8d13fe0e-c536-4b8e-a682-fe85100ba155"
      },
      "execution_count": 4,
      "outputs": [
        {
          "output_type": "stream",
          "name": "stdout",
          "text": [
            "Mounted at /content/drive\n"
          ]
        }
      ]
    },
    {
      "cell_type": "code",
      "source": [
        "pip install pip install gff3-parser"
      ],
      "metadata": {
        "colab": {
          "base_uri": "https://localhost:8080/"
        },
        "id": "zSYVJiwnivZm",
        "outputId": "041cf678-48cd-4b14-9d00-b7369daecb85"
      },
      "execution_count": 5,
      "outputs": [
        {
          "output_type": "stream",
          "name": "stdout",
          "text": [
            "Looking in indexes: https://pypi.org/simple, https://us-python.pkg.dev/colab-wheels/public/simple/\n",
            "Requirement already satisfied: pip in /usr/local/lib/python3.9/dist-packages (22.0.4)\n",
            "Collecting install\n",
            "  Downloading install-1.3.5-py3-none-any.whl (3.2 kB)\n",
            "Collecting gff3-parser\n",
            "  Downloading gff3_parser-0.0.5-py3-none-any.whl (6.7 kB)\n",
            "Installing collected packages: install, gff3-parser\n",
            "Successfully installed gff3-parser-0.0.5 install-1.3.5\n"
          ]
        }
      ]
    },
    {
      "cell_type": "code",
      "source": [
        "import gff3_parser\n",
        "filepath = \"/content/drive/MyDrive/Colab Notebooks/Zm-B73-REFERENCE-NAM-5.0_Zm00001eb.1.gff3\""
      ],
      "metadata": {
        "id": "-RiPq452i5kp"
      },
      "execution_count": 6,
      "outputs": []
    },
    {
      "cell_type": "code",
      "source": [
        "# use Pandas for reading tables from CSV or TSV files\n",
        "# https://pandas.pydata.org/docs/reference/api/pandas.read_csv.html"
      ],
      "metadata": {
        "id": "gL4YSnnh_ac-"
      },
      "execution_count": null,
      "outputs": []
    },
    {
      "cell_type": "code",
      "source": [
        "import pandas \n",
        "maize_gene_annotation_table = pandas.read_csv(\"/content/drive/MyDrive/Colab Notebooks/Zm-B73-REFERENCE-NAM-5.0_Zm00001eb.1.gff3\", sep=\"\\t\", skiprows=4)"
      ],
      "metadata": {
        "id": "JYPWtA3Lcj54"
      },
      "execution_count": 10,
      "outputs": []
    },
    {
      "cell_type": "code",
      "source": [
        "!pip3 install pyBedGraph"
      ],
      "metadata": {
        "colab": {
          "base_uri": "https://localhost:8080/"
        },
        "id": "OYlZ_rY7z_C0",
        "outputId": "43ed0e5e-5348-4d45-ab52-056bd910141c"
      },
      "execution_count": 8,
      "outputs": [
        {
          "output_type": "stream",
          "name": "stdout",
          "text": [
            "Looking in indexes: https://pypi.org/simple, https://us-python.pkg.dev/colab-wheels/public/simple/\n",
            "Collecting pyBedGraph\n",
            "  Downloading pyBedGraph-0.5.43.tar.gz (361 kB)\n",
            "\u001b[2K     \u001b[90m━━━━━━━━━━━━━━━━━━━━━━━━━━━━━━━━━━━━━━\u001b[0m \u001b[32m361.6/361.6 KB\u001b[0m \u001b[31m12.6 MB/s\u001b[0m eta \u001b[36m0:00:00\u001b[0m\n",
            "\u001b[?25h  Preparing metadata (setup.py) ... \u001b[?25l\u001b[?25hdone\n",
            "Requirement already satisfied: numpy>=1.16.4 in /usr/local/lib/python3.9/dist-packages (from pyBedGraph) (1.22.4)\n",
            "Building wheels for collected packages: pyBedGraph\n",
            "  Building wheel for pyBedGraph (setup.py) ... \u001b[?25l\u001b[?25hdone\n",
            "  Created wheel for pyBedGraph: filename=pyBedGraph-0.5.43-cp39-cp39-linux_x86_64.whl size=1423169 sha256=c5f3f3dc17b4dc1c7aaf53ac79b2a3acbe6ba2f2a06040a2c8ff2b2b2a91a6c4\n",
            "  Stored in directory: /root/.cache/pip/wheels/63/c5/8b/364b74e2111799e85be686cba951506a4cc443985a6abd5681\n",
            "Successfully built pyBedGraph\n",
            "Installing collected packages: pyBedGraph\n",
            "Successfully installed pyBedGraph-0.5.43\n"
          ]
        }
      ]
    },
    {
      "cell_type": "code",
      "source": [
        "from pyBedGraph import BedGraph"
      ],
      "metadata": {
        "id": "B6C8ZXZa097k"
      },
      "execution_count": 9,
      "outputs": []
    }
  ]
}